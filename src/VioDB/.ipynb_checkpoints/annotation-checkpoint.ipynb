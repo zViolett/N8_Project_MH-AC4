{
 "cells": [
  {
   "cell_type": "code",
   "execution_count": null,
   "metadata": {},
   "outputs": [],
   "source": [
    "import os\n",
    "import sys\n",
    "import json\n",
    "\n",
    "from sklearn.model_selection import train_test_split"
   ]
  },
  {
   "cell_type": "code",
   "execution_count": 1,
   "metadata": {},
   "outputs": [],
   "source": [
    "def load_labels(database_path):\n",
    "    if os.path.isdir(database_path):\n",
    "        labels = os.listdir(database_path)\n",
    "\n",
    "    return labels\n",
    "\n",
    "\n",
    "def get_dataset(database_path):\n",
    "    if not os.path.exists(database_path):\n",
    "        raise IOError('not exist path')\n",
    "    no_dir = os.path.join(database_path, 'no')\n",
    "    fi_dir = os.path.join(database_path, 'fi')\n",
    "\n",
    "    no_data = os.listdir(no_dir)\n",
    "    fi_data = os.listdir(fi_dir)\n",
    "\n",
    "    no_train, no_test = train_test_split(no_data, test_size=0.2, shuffle=True)\n",
    "    fi_train, fi_test = train_test_split(fi_data, test_size=0.2, shuffle=True)\n",
    "\n",
    "    train_database = {}\n",
    "    for file_name in no_train:\n",
    "        name, _ = os.path.splitext(file_name)\n",
    "        train_database[name] = {}\n",
    "        train_database[name]['subset'] = 'training'\n",
    "        train_database[name]['annotations'] = {'label': 'no'}\n",
    "    for file_name in fi_train:\n",
    "        name, _ = os.path.splitext(file_name)\n",
    "        train_database[name] = {}\n",
    "        train_database[name]['subset'] = 'training'\n",
    "        train_database[name]['annotations'] = {'label': 'fi'}\n",
    "\n",
    "    val_database = {}\n",
    "    for file_name in no_test:\n",
    "        name, _ = os.path.splitext(file_name)\n",
    "        val_database[name] = {}\n",
    "        val_database[name]['subset'] = 'validation'\n",
    "        val_database[name]['annotations'] = {'label': 'no'}\n",
    "    for file_name in fi_test:\n",
    "        name, _ = os.path.splitext(file_name)\n",
    "        val_database[name] = {}\n",
    "        val_database[name]['subset'] = 'validation'\n",
    "        val_database[name]['annotations'] = {'label': 'fi'}\n",
    "\n",
    "    return train_database, val_database\n",
    "\n",
    "\n",
    "def generate_annotation(database_path, dst_json_path):\n",
    "    labels = load_labels(database_path)\n",
    "    train_database, val_database = get_dataset(database_path)\n",
    "\n",
    "    dst_data = {}\n",
    "    dst_data['labels'] = labels\n",
    "    dst_data['database'] = {}\n",
    "    dst_data['database'].update(train_database)\n",
    "    dst_data['database'].update(val_database)\n",
    "\n",
    "    with open(dst_json_path, 'w') as dst_file:\n",
    "        json.dump(dst_data, dst_file)"
   ]
  },
  {
   "cell_type": "code",
   "execution_count": 2,
   "metadata": {},
   "outputs": [
    {
     "ename": "NameError",
     "evalue": "name 'os' is not defined",
     "output_type": "error",
     "traceback": [
      "\u001b[1;31m---------------------------------------------------------------------------\u001b[0m",
      "\u001b[1;31mNameError\u001b[0m                                 Traceback (most recent call last)",
      "\u001b[1;32mC:\\Users\\DAT~1.NT1\\AppData\\Local\\Temp/ipykernel_17920/2212855219.py\u001b[0m in \u001b[0;36m<module>\u001b[1;34m\u001b[0m\n\u001b[0;32m      2\u001b[0m \u001b[0mdst_json_path\u001b[0m \u001b[1;33m=\u001b[0m \u001b[0mdatabase_path\u001b[0m \u001b[1;33m+\u001b[0m \u001b[1;34m'.json'\u001b[0m\u001b[1;33m\u001b[0m\u001b[1;33m\u001b[0m\u001b[0m\n\u001b[0;32m      3\u001b[0m \u001b[1;33m\u001b[0m\u001b[0m\n\u001b[1;32m----> 4\u001b[1;33m \u001b[0mgenerate_annotation\u001b[0m\u001b[1;33m(\u001b[0m\u001b[0mdatabase_path\u001b[0m\u001b[1;33m,\u001b[0m \u001b[0mdst_json_path\u001b[0m\u001b[1;33m)\u001b[0m\u001b[1;33m\u001b[0m\u001b[1;33m\u001b[0m\u001b[0m\n\u001b[0m",
      "\u001b[1;32mC:\\Users\\DAT~1.NT1\\AppData\\Local\\Temp/ipykernel_17920/1699407929.py\u001b[0m in \u001b[0;36mgenerate_annotation\u001b[1;34m(database_path, dst_json_path)\u001b[0m\n\u001b[0;32m     46\u001b[0m \u001b[1;33m\u001b[0m\u001b[0m\n\u001b[0;32m     47\u001b[0m \u001b[1;32mdef\u001b[0m \u001b[0mgenerate_annotation\u001b[0m\u001b[1;33m(\u001b[0m\u001b[0mdatabase_path\u001b[0m\u001b[1;33m,\u001b[0m \u001b[0mdst_json_path\u001b[0m\u001b[1;33m)\u001b[0m\u001b[1;33m:\u001b[0m\u001b[1;33m\u001b[0m\u001b[1;33m\u001b[0m\u001b[0m\n\u001b[1;32m---> 48\u001b[1;33m     \u001b[0mlabels\u001b[0m \u001b[1;33m=\u001b[0m \u001b[0mload_labels\u001b[0m\u001b[1;33m(\u001b[0m\u001b[0mdatabase_path\u001b[0m\u001b[1;33m)\u001b[0m\u001b[1;33m\u001b[0m\u001b[1;33m\u001b[0m\u001b[0m\n\u001b[0m\u001b[0;32m     49\u001b[0m     \u001b[0mtrain_database\u001b[0m\u001b[1;33m,\u001b[0m \u001b[0mval_database\u001b[0m \u001b[1;33m=\u001b[0m \u001b[0mget_dataset\u001b[0m\u001b[1;33m(\u001b[0m\u001b[0mdatabase_path\u001b[0m\u001b[1;33m)\u001b[0m\u001b[1;33m\u001b[0m\u001b[1;33m\u001b[0m\u001b[0m\n\u001b[0;32m     50\u001b[0m \u001b[1;33m\u001b[0m\u001b[0m\n",
      "\u001b[1;32mC:\\Users\\DAT~1.NT1\\AppData\\Local\\Temp/ipykernel_17920/1699407929.py\u001b[0m in \u001b[0;36mload_labels\u001b[1;34m(database_path)\u001b[0m\n\u001b[0;32m      1\u001b[0m \u001b[1;32mdef\u001b[0m \u001b[0mload_labels\u001b[0m\u001b[1;33m(\u001b[0m\u001b[0mdatabase_path\u001b[0m\u001b[1;33m)\u001b[0m\u001b[1;33m:\u001b[0m\u001b[1;33m\u001b[0m\u001b[1;33m\u001b[0m\u001b[0m\n\u001b[1;32m----> 2\u001b[1;33m     \u001b[1;32mif\u001b[0m \u001b[0mos\u001b[0m\u001b[1;33m.\u001b[0m\u001b[0mpath\u001b[0m\u001b[1;33m.\u001b[0m\u001b[0misdir\u001b[0m\u001b[1;33m(\u001b[0m\u001b[0mdatabase_path\u001b[0m\u001b[1;33m)\u001b[0m\u001b[1;33m:\u001b[0m\u001b[1;33m\u001b[0m\u001b[1;33m\u001b[0m\u001b[0m\n\u001b[0m\u001b[0;32m      3\u001b[0m         \u001b[0mlabels\u001b[0m \u001b[1;33m=\u001b[0m \u001b[0mos\u001b[0m\u001b[1;33m.\u001b[0m\u001b[0mlistdir\u001b[0m\u001b[1;33m(\u001b[0m\u001b[0mdatabase_path\u001b[0m\u001b[1;33m)\u001b[0m\u001b[1;33m\u001b[0m\u001b[1;33m\u001b[0m\u001b[0m\n\u001b[0;32m      4\u001b[0m \u001b[1;33m\u001b[0m\u001b[0m\n\u001b[0;32m      5\u001b[0m     \u001b[1;32mreturn\u001b[0m \u001b[0mlabels\u001b[0m\u001b[1;33m\u001b[0m\u001b[1;33m\u001b[0m\u001b[0m\n",
      "\u001b[1;31mNameError\u001b[0m: name 'os' is not defined"
     ]
    }
   ],
   "source": [
    "database_path = 'mix_jpg'\n",
    "dst_json_path = database_path + '.json'\n",
    "\n",
    "generate_annotation(database_path, dst_json_path)"
   ]
  },
  {
   "cell_type": "code",
   "execution_count": null,
   "metadata": {},
   "outputs": [],
   "source": []
  }
 ],
 "metadata": {
  "kernelspec": {
   "display_name": "Python 3 (ipykernel)",
   "language": "python",
   "name": "python3"
  },
  "language_info": {
   "codemirror_mode": {
    "name": "ipython",
    "version": 3
   },
   "file_extension": ".py",
   "mimetype": "text/x-python",
   "name": "python",
   "nbconvert_exporter": "python",
   "pygments_lexer": "ipython3",
   "version": "3.9.7"
  }
 },
 "nbformat": 4,
 "nbformat_minor": 4
}
